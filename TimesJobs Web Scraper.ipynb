{
 "cells": [
  {
   "cell_type": "markdown",
   "metadata": {},
   "source": [
    "### Import Libraries"
   ]
  },
  {
   "cell_type": "code",
   "execution_count": 1,
   "metadata": {},
   "outputs": [],
   "source": [
    "from bs4 import BeautifulSoup\n",
    "import pandas as pd\n",
    "import requests\n",
    "import smtplib\n",
    "import time\n",
    "import datetime"
   ]
  },
  {
   "cell_type": "markdown",
   "metadata": {},
   "source": [
    "### Connect to website and pull in data"
   ]
  },
  {
   "cell_type": "code",
   "execution_count": 5,
   "metadata": {
    "scrolled": true
   },
   "outputs": [
    {
     "name": "stdout",
     "output_type": "stream",
     "text": [
      "Company Name: SuryaInformaticsSolutionsPvt.Ltd.\n",
      "Required Skills: python,webtechnologies,linux,mobile,mysql,angularjs,javascript\n",
      "More Info: https://www.timesjobs.com/job-detail/python-surya-informatics-solutions-pvt-ltd-chennai-0-to-3-yrs-jobid-UVlLes58wutzpSvf__PLUS__uAgZw==&source=srp\n",
      " \n",
      "Company Name: PureTechCodexPrivateLimited\n",
      "Required Skills: rest,python,database,django,debugging,mongodb\n",
      "More Info: https://www.timesjobs.com/job-detail/python-pure-tech-codex-private-limited-pune-2-to-3-yrs-jobid-OHwfF0d6EhNzpSvf__PLUS__uAgZw==&source=srp\n",
      " \n",
      "Company Name: 3RITechnologiesPvtLtd\n",
      "Required Skills: embeddedsystems,embeddedc,oscilloscope\n",
      "More Info: https://www.timesjobs.com/job-detail/python-3ri-technologies-pvt-ltd-pune-0-to-3-yrs-jobid-BPHzI7z6aKVzpSvf__PLUS__uAgZw==&source=srp\n",
      " \n",
      "Company Name: GeminiSolutions\n",
      "Required Skills: python,mobile,svn,nosql,pythonscripting,git,api,sqldatabase\n",
      "More Info: https://www.timesjobs.com/job-detail/qa-python-python-sdet-gemini-solutions-gurgaon-4-to-7-yrs-jobid-eGMLzwOk2QlzpSvf__PLUS__uAgZw==&source=srp\n",
      " \n",
      "Company Name: HARMANINTERNATIONAL\n",
      "Required Skills: python,os,linux,middleware\n",
      "More Info: https://www.timesjobs.com/job-detail/python-automation-harman-international-bengaluru-bangalore-3-to-5-yrs-jobid-HRyxmDQZxsRzpSvf__PLUS__uAgZw==&source=srp\n",
      " \n",
      "Company Name: SEVENCONSULTANCY\n",
      "Required Skills: python,mvc,sql\n",
      "More Info: https://www.timesjobs.com/job-detail/python-developer-seven-consultancy-navi-mumbai-mumbai-4-to-7-yrs-jobid-PGeUDPey4RhzpSvf__PLUS__uAgZw==&source=srp\n",
      " \n",
      "Company Name: brickred(3pillarglobal)\n",
      "Required Skills: softwareproducts,Python,DynamoDB\n",
      "More Info: https://www.timesjobs.com/job-detail/python-developer-brickred-3pillar-global-4-to-7-yrs-jobid-nMblzVXwXThzpSvf__PLUS__uAgZw==&source=srp\n",
      " \n",
      "Company Name: IvanInfotechPvt.Ltd.\n",
      "Required Skills: rest,python,security,debugging\n",
      "More Info: https://www.timesjobs.com/job-detail/python-developer-ivan-infotech-pvt-ltd-kolkata-2-to-5-yrs-jobid-1h6sLaqbaBZzpSvf__PLUS__uAgZw==&source=srp\n",
      " \n",
      "Company Name: Dkbusinesspatronpvtltd\r\n",
      "(MoreJobs)\n",
      "Required Skills: Python,PHP\n",
      "More Info: https://www.timesjobs.com/job-detail/python-developer-dk-business-patron-pvt-ltd-delhi-2-to-5-yrs-jobid-PHy__SLASH____PLUS__twZR95zpSvf__PLUS__uAgZw==&source=srp\n",
      " \n",
      "Company Name: TandAHRSolutions\n",
      "Required Skills: Djangoframework,PythonDeveloper,corepython\n",
      "More Info: https://www.timesjobs.com/job-detail/python-developer-tanda-hr-solutions-mohali-3-to-5-yrs-jobid-GTT0grHZP1tzpSvf__PLUS__uAgZw==&source=srp\n",
      " \n",
      "Company Name: eastindiasecuritiesltd.\n",
      "Required Skills: python,hadoop,machinelearning\n",
      "More Info: https://www.timesjobs.com/job-detail/python-engineer-east-india-securities-ltd-kolkata-2-to-5-yrs-jobid-KEkE19WqPbFzpSvf__PLUS__uAgZw==&source=srp\n",
      " \n",
      "Company Name: GoldenOpportunitiesPvtLtd\n",
      "Required Skills: python,informationtechnology,sql\n",
      "More Info: https://www.timesjobs.com/job-detail/python-developers-golden-opportunities-pvt-ltd-chennai-5-to-8-yrs-jobid-PhsasbleP6xzpSvf__PLUS__uAgZw==&source=srp\n",
      " \n"
     ]
    }
   ],
   "source": [
    "html_text = requests.get('https://www.timesjobs.com/candidate/job-search.html?searchType=personalizedSearch&from=submit&txtKeywords=python&txtLocation=').text\n",
    "soup = BeautifulSoup(html_text, 'lxml')\n",
    "jobs = soup.find_all('li', class_ = 'clearfix job-bx wht-shd-bx')\n",
    "for job in jobs:\n",
    "#print(job)\n",
    "\n",
    "# lets find the h3 tag\n",
    "#Filters few days ago\n",
    "\n",
    "    date_posted = job.find('span', class_ = 'sim-posted').span.text\n",
    "    if 'few' in date_posted:\n",
    "        company_name = job.find('h3', class_ = 'joblist-comp-name').text.replace(' ', '')\n",
    "        skills = job.find('span', class_ = 'srp-skills').text.replace(' ', '')\n",
    "        more_info = job.header.h2.a['href']\n",
    "        if unfamiliar_skill not in skills:\n",
    "        #Adding some sentences\n",
    "\n",
    "        print(f\"Company Name: {company_name.strip()}\")\n",
    "        print(f\"Required Skills: {skills.strip()}\")\n",
    "        print(f\"More Info: {more_info}\")\n",
    "        print(' ')\n",
    "        "
   ]
  },
  {
   "cell_type": "markdown",
   "metadata": {},
   "source": [
    "### Filter out skill requirements"
   ]
  },
  {
   "cell_type": "code",
   "execution_count": 12,
   "metadata": {},
   "outputs": [
    {
     "name": "stdout",
     "output_type": "stream",
     "text": [
      "Input un-familiar skills\n",
      ">linux\n",
      "Filtering out linux\n",
      "\n",
      "Company Name: PureTechCodexPrivateLimited\n",
      "Required Skills: rest,python,database,django,debugging,mongodb\n",
      "More Info: https://www.timesjobs.com/job-detail/python-pure-tech-codex-private-limited-pune-2-to-3-yrs-jobid-OHwfF0d6EhNzpSvf__PLUS__uAgZw==&source=srp\n",
      " \n",
      "Company Name: 3RITechnologiesPvtLtd\n",
      "Required Skills: embeddedsystems,embeddedc,oscilloscope\n",
      "More Info: https://www.timesjobs.com/job-detail/python-3ri-technologies-pvt-ltd-pune-0-to-3-yrs-jobid-BPHzI7z6aKVzpSvf__PLUS__uAgZw==&source=srp\n",
      " \n",
      "Company Name: GeminiSolutions\n",
      "Required Skills: python,mobile,svn,nosql,pythonscripting,git,api,sqldatabase\n",
      "More Info: https://www.timesjobs.com/job-detail/qa-python-python-sdet-gemini-solutions-gurgaon-4-to-7-yrs-jobid-eGMLzwOk2QlzpSvf__PLUS__uAgZw==&source=srp\n",
      " \n",
      "Company Name: SEVENCONSULTANCY\n",
      "Required Skills: python,mvc,sql\n",
      "More Info: https://www.timesjobs.com/job-detail/python-developer-seven-consultancy-navi-mumbai-mumbai-4-to-7-yrs-jobid-PGeUDPey4RhzpSvf__PLUS__uAgZw==&source=srp\n",
      " \n",
      "Company Name: brickred(3pillarglobal)\n",
      "Required Skills: softwareproducts,Python,DynamoDB\n",
      "More Info: https://www.timesjobs.com/job-detail/python-developer-brickred-3pillar-global-4-to-7-yrs-jobid-nMblzVXwXThzpSvf__PLUS__uAgZw==&source=srp\n",
      " \n",
      "Company Name: IvanInfotechPvt.Ltd.\n",
      "Required Skills: rest,python,security,debugging\n",
      "More Info: https://www.timesjobs.com/job-detail/python-developer-ivan-infotech-pvt-ltd-kolkata-2-to-5-yrs-jobid-1h6sLaqbaBZzpSvf__PLUS__uAgZw==&source=srp\n",
      " \n",
      "Company Name: Dkbusinesspatronpvtltd\n",
      "(MoreJobs)\n",
      "Required Skills: Python,PHP\n",
      "More Info: https://www.timesjobs.com/job-detail/python-developer-dk-business-patron-pvt-ltd-delhi-2-to-5-yrs-jobid-PHy__SLASH____PLUS__twZR95zpSvf__PLUS__uAgZw==&source=srp\n",
      " \n",
      "Company Name: TandAHRSolutions\n",
      "Required Skills: Djangoframework,PythonDeveloper,corepython\n",
      "More Info: https://www.timesjobs.com/job-detail/python-developer-tanda-hr-solutions-mohali-3-to-5-yrs-jobid-GTT0grHZP1tzpSvf__PLUS__uAgZw==&source=srp\n",
      " \n",
      "Company Name: eastindiasecuritiesltd.\n",
      "Required Skills: python,hadoop,machinelearning\n",
      "More Info: https://www.timesjobs.com/job-detail/python-engineer-east-india-securities-ltd-kolkata-2-to-5-yrs-jobid-KEkE19WqPbFzpSvf__PLUS__uAgZw==&source=srp\n",
      " \n",
      "Company Name: GoldenOpportunitiesPvtLtd\n",
      "Required Skills: python,informationtechnology,sql\n",
      "More Info: https://www.timesjobs.com/job-detail/python-developers-golden-opportunities-pvt-ltd-chennai-5-to-8-yrs-jobid-PhsasbleP6xzpSvf__PLUS__uAgZw==&source=srp\n",
      " \n"
     ]
    }
   ],
   "source": [
    "print(\"Input un-familiar skills\")\n",
    "unfamiliar_skill = input(\">\")\n",
    "print(f\"Filtering out {unfamiliar_skill}\\n\")\n",
    "\n",
    "\n",
    "soup = BeautifulSoup(html_text, 'lxml')\n",
    "jobs = soup.find_all('li', class_ = 'clearfix job-bx wht-shd-bx')\n",
    "for job in jobs:\n",
    "    date_posted = job.find('span', class_ = 'sim-posted').span.text\n",
    "    if 'few' in date_posted:\n",
    "        company_name = job.find('h3', class_ = 'joblist-comp-name').text.replace(' ', '')\n",
    "        skills = job.find('span', class_ = 'srp-skills').text.replace(' ', '')\n",
    "        more_info = job.header.h2.a['href']\n",
    "        if unfamiliar_skill not in skills:\n",
    "            print(f\"Company Name: {company_name.strip()}\")\n",
    "            print(f\"Required Skills: {skills.strip()}\")\n",
    "            print(f\"More Info: {more_info}\")\n",
    "            print(' ')\n",
    "        \n"
   ]
  },
  {
   "cell_type": "markdown",
   "metadata": {},
   "source": [
    "### Create a Timestamp for your output to track when data was collected"
   ]
  },
  {
   "cell_type": "code",
   "execution_count": 13,
   "metadata": {},
   "outputs": [
    {
     "name": "stdout",
     "output_type": "stream",
     "text": [
      "2022-01-17\n"
     ]
    }
   ],
   "source": [
    "import datetime\n",
    "\n",
    "today = datetime.date.today()\n",
    "\n",
    "print(today)"
   ]
  },
  {
   "cell_type": "markdown",
   "metadata": {},
   "source": [
    "### Create CSV and write headers and data into the file"
   ]
  },
  {
   "cell_type": "code",
   "execution_count": 15,
   "metadata": {},
   "outputs": [],
   "source": [
    "import csv \n",
    "\n",
    "header = ['Company Name', 'Required Skills', 'More Info', 'Date']\n",
    "data = [company_name, skills, more_info, today]\n",
    "\n",
    "\n",
    "with open('TimesJobsWebScraper.csv', 'w', newline='', encoding='UTF8') as f:\n",
    "    writer = csv.writer(f)\n",
    "    writer.writerow(header)\n",
    "    writer.writerow(data)"
   ]
  },
  {
   "cell_type": "code",
   "execution_count": 22,
   "metadata": {},
   "outputs": [
    {
     "data": {
      "text/html": [
       "<div>\n",
       "<style scoped>\n",
       "    .dataframe tbody tr th:only-of-type {\n",
       "        vertical-align: middle;\n",
       "    }\n",
       "\n",
       "    .dataframe tbody tr th {\n",
       "        vertical-align: top;\n",
       "    }\n",
       "\n",
       "    .dataframe thead th {\n",
       "        text-align: right;\n",
       "    }\n",
       "</style>\n",
       "<table border=\"1\" class=\"dataframe\">\n",
       "  <thead>\n",
       "    <tr style=\"text-align: right;\">\n",
       "      <th></th>\n",
       "      <th>Company Name</th>\n",
       "      <th>Required Skills</th>\n",
       "      <th>More Info</th>\n",
       "      <th>Date</th>\n",
       "    </tr>\n",
       "  </thead>\n",
       "  <tbody>\n",
       "    <tr>\n",
       "      <th>0</th>\n",
       "      <td>\\r\\nGoldenOpportunitiesPvtLtd\\r\\n\\r\\n</td>\n",
       "      <td>\\npython,informationtechnology,sql\\r\\n\\r\\n</td>\n",
       "      <td>https://www.timesjobs.com/job-detail/python-de...</td>\n",
       "      <td>2022-01-17</td>\n",
       "    </tr>\n",
       "  </tbody>\n",
       "</table>\n",
       "</div>"
      ],
      "text/plain": [
       "                            Company Name  \\\n",
       "0  \\r\\nGoldenOpportunitiesPvtLtd\\r\\n\\r\\n   \n",
       "\n",
       "                              Required Skills  \\\n",
       "0  \\npython,informationtechnology,sql\\r\\n\\r\\n   \n",
       "\n",
       "                                           More Info        Date  \n",
       "0  https://www.timesjobs.com/job-detail/python-de...  2022-01-17  "
      ]
     },
     "execution_count": 22,
     "metadata": {},
     "output_type": "execute_result"
    }
   ],
   "source": [
    "df = pd.read_csv(r'C:\\Users\\DANNY\\TimesJobsWebScraper.csv')\n",
    "df"
   ]
  },
  {
   "cell_type": "markdown",
   "metadata": {},
   "source": [
    "### Append data to the csv"
   ]
  },
  {
   "cell_type": "code",
   "execution_count": null,
   "metadata": {},
   "outputs": [],
   "source": [
    "with open('TimesJobsWebScraper.csv', 'a+', newline='', encoding='UTF8') as f:\n",
    "    writer = csv.writer(f)\n",
    "    writer.writerow(data)\n"
   ]
  },
  {
   "cell_type": "markdown",
   "metadata": {},
   "source": [
    "### Combine all the code into a function"
   ]
  },
  {
   "cell_type": "code",
   "execution_count": 25,
   "metadata": {},
   "outputs": [],
   "source": [
    "def job_finder():\n",
    "    print(\"Input un-familiar skills\")\n",
    "    unfamiliar_skill = input(\">\")\n",
    "    print(f\"Filtering out {unfamiliar_skill}\\n\")\n",
    "\n",
    "\n",
    "    soup = BeautifulSoup(html_text, 'lxml')\n",
    "    jobs = soup.find_all('li', class_ = 'clearfix job-bx wht-shd-bx')\n",
    "    for job in jobs:\n",
    "        date_posted = job.find('span', class_ = 'sim-posted').span.text\n",
    "        if 'few' in date_posted:\n",
    "            company_name = job.find('h3', class_ = 'joblist-comp-name').text.replace(' ', '')\n",
    "            skills = job.find('span', class_ = 'srp-skills').text.replace(' ', '')\n",
    "            more_info = job.header.h2.a['href']\n",
    "            if unfamiliar_skill not in skills:\n",
    "                print(f\"Company Name: {company_name.strip()}\")\n",
    "                print(f\"Required Skills: {skills.strip()}\")\n",
    "                print(f\"More Info: {more_info}\")\n",
    "                print(' ')\n",
    "\n",
    "    import datetime\n",
    "\n",
    "    today = datetime.date.today()\n",
    "\n",
    "    print(today)\n",
    "    \n",
    "    import csv \n",
    "\n",
    "    header = ['Company Name', 'Required Skills', 'More Info', 'Date']\n",
    "    data = [company_name, skills, more_info, today]\n",
    "\n",
    "\n",
    "    with open('TimesJobsWebScraper.csv', 'a+', newline='', encoding='UTF8') as f:\n",
    "        writer = csv.writer(f)\n",
    "        writer.writerow(data)\n",
    "        \n"
   ]
  },
  {
   "cell_type": "code",
   "execution_count": null,
   "metadata": {},
   "outputs": [],
   "source": [
    "# Runs check_price after a set time and inputs data into your CSV\n",
    "while(True):\n",
    "    job_finder()\n",
    "    time.sleep(5)"
   ]
  },
  {
   "cell_type": "markdown",
   "metadata": {},
   "source": [
    "#### Runs check_price after a set time and inputs data into your csv"
   ]
  },
  {
   "cell_type": "code",
   "execution_count": null,
   "metadata": {},
   "outputs": [],
   "source": [
    "df = pd.read_csv(r'C:\\Users\\DANNY\\TimesJobsWebScraper.csv')\n",
    "df"
   ]
  }
 ],
 "metadata": {
  "kernelspec": {
   "display_name": "Python 3",
   "language": "python",
   "name": "python3"
  },
  "language_info": {
   "codemirror_mode": {
    "name": "ipython",
    "version": 3
   },
   "file_extension": ".py",
   "mimetype": "text/x-python",
   "name": "python",
   "nbconvert_exporter": "python",
   "pygments_lexer": "ipython3",
   "version": "3.8.5"
  }
 },
 "nbformat": 4,
 "nbformat_minor": 4
}
